{
 "cells": [
  {
   "cell_type": "markdown",
   "metadata": {},
   "source": [
    "# Image Classification with CNNs using Keras"
   ]
  },
  {
   "cell_type": "markdown",
   "metadata": {},
   "source": [
    "# Step 1: Import Libraries\n",
    "- Importing the required libraries and helper functions."
   ]
  },
  {
   "cell_type": "code",
   "execution_count": 1,
   "metadata": {},
   "outputs": [
    {
     "ename": "ModuleNotFoundError",
     "evalue": "No module named 'tensorflow'",
     "output_type": "error",
     "traceback": [
      "\u001b[1;31m---------------------------------------------------------------------------\u001b[0m",
      "\u001b[1;31mModuleNotFoundError\u001b[0m                       Traceback (most recent call last)",
      "\u001b[1;32m<ipython-input-1-20b300c48c1c>\u001b[0m in \u001b[0;36m<module>\u001b[1;34m\u001b[0m\n\u001b[1;32m----> 1\u001b[1;33m \u001b[1;32mimport\u001b[0m \u001b[0mtensorflow\u001b[0m \u001b[1;32mas\u001b[0m \u001b[0mtf\u001b[0m\u001b[1;33m\u001b[0m\u001b[1;33m\u001b[0m\u001b[0m\n\u001b[0m\u001b[0;32m      2\u001b[0m \u001b[1;32mimport\u001b[0m \u001b[0mos\u001b[0m\u001b[1;33m\u001b[0m\u001b[1;33m\u001b[0m\u001b[0m\n\u001b[0;32m      3\u001b[0m \u001b[1;32mimport\u001b[0m \u001b[0mnumpy\u001b[0m \u001b[1;32mas\u001b[0m \u001b[0mnp\u001b[0m\u001b[1;33m\u001b[0m\u001b[1;33m\u001b[0m\u001b[0m\n\u001b[0;32m      4\u001b[0m \u001b[1;33m\u001b[0m\u001b[0m\n\u001b[0;32m      5\u001b[0m \u001b[1;32mfrom\u001b[0m \u001b[0mmatplotlib\u001b[0m \u001b[1;32mimport\u001b[0m \u001b[0mpyplot\u001b[0m \u001b[1;32mas\u001b[0m \u001b[0mplt\u001b[0m\u001b[1;33m\u001b[0m\u001b[1;33m\u001b[0m\u001b[0m\n",
      "\u001b[1;31mModuleNotFoundError\u001b[0m: No module named 'tensorflow'"
     ]
    }
   ],
   "source": [
    "import tensorflow as tf\n",
    "import os\n",
    "import numpy as np\n",
    "\n",
    "from matplotlib import pyplot as plt\n",
    "%matplotlib inline\n",
    "\n",
    "if not os.path.isdir('models'):\n",
    "    os.mkdir('models')\n",
    "    \n",
    "print('TensorFlow version:', tf.__version__)\n",
    "print('Is using GPU?', tf.test.is_gpu_available())"
   ]
  },
  {
   "cell_type": "markdown",
   "metadata": {},
   "source": [
    "# Step 2: Preprocess Data\n",
    "- Importing the CIFAR-10 dataset.\n",
    "- Creating a subset of the dataset which has just 3 classes instead of 10. This is done for both the training and test set.\n",
    "- Randomly shuffling the newly created subset."
   ]
  },
  {
   "cell_type": "code",
   "execution_count": null,
   "metadata": {},
   "outputs": [],
   "source": [
    "def get_three_classes(x, y):\n",
    "    def indices_of(class_id):\n",
    "        indices, _ = np.where(y == float(class_id))\n",
    "        return indices\n",
    "\n",
    "    indices = np.concatenate([indices_of(0), indices_of(1), indices_of(2)], axis=0)\n",
    "    \n",
    "    x = x[indices]\n",
    "    y = y[indices]\n",
    "    \n",
    "    count = x.shape[0]\n",
    "    indices = np.random.choice(range(count), count, replace=False)\n",
    "    \n",
    "    x = x[indices]\n",
    "    y = y[indices]\n",
    "    \n",
    "    y = tf.keras.utils.to_categorical(y)\n",
    "    \n",
    "    return x, y"
   ]
  },
  {
   "cell_type": "code",
   "execution_count": null,
   "metadata": {},
   "outputs": [],
   "source": [
    "(x_train, y_train), (x_test, y_test) = tf.keras.datasets.cifar10.load_data()\n",
    "\n",
    "x_train, y_train = get_three_classes(x_train, y_train)\n",
    "x_test, y_test = get_three_classes(x_test, y_test)\n",
    "\n",
    "print(x_train.shape, y_train.shape)\n",
    "print(x_test.shape, y_test.shape)"
   ]
  },
  {
   "cell_type": "markdown",
   "metadata": {},
   "source": [
    "# Step 3: Visualize Examples\n",
    "- Plotting randomly selected examples of a given set.\n",
    "- We look at some examples from training and test set along with their labels."
   ]
  },
  {
   "cell_type": "code",
   "execution_count": null,
   "metadata": {},
   "outputs": [],
   "source": [
    "class_names = ['aeroplane', 'car', 'bird']\n",
    "\n",
    "def show_random_examples(x, y, p):\n",
    "    indices = np.random.choice(range(x.shape[0]), 10, replace=False)\n",
    "    \n",
    "    x = x[indices]\n",
    "    y = y[indices]\n",
    "    p = p[indices]\n",
    "    \n",
    "    plt.figure(figsize=(10, 5))\n",
    "    for i in range(10):\n",
    "        plt.subplot(2, 5, i + 1)\n",
    "        plt.imshow(x[i])\n",
    "        plt.xticks([])\n",
    "        plt.yticks([])\n",
    "        col = 'green' if np.argmax(y[i]) == np.argmax(p[i]) else 'red'\n",
    "        plt.xlabel(class_names[np.argmax(p[i])], color=col)\n",
    "    plt.show()\n",
    "\n",
    "show_random_examples(x_train, y_train, y_train)"
   ]
  },
  {
   "cell_type": "code",
   "execution_count": null,
   "metadata": {},
   "outputs": [],
   "source": [
    "show_random_examples(x_test, y_test, y_test)"
   ]
  },
  {
   "cell_type": "markdown",
   "metadata": {},
   "source": [
    "# Step 4: Create Model\n",
    "- Creating a Keras Sequential model.\n",
    "- Creating a function to add a convolutional block to the model.\n",
    "- A look at the model summary."
   ]
  },
  {
   "cell_type": "code",
   "execution_count": null,
   "metadata": {},
   "outputs": [],
   "source": [
    "from tensorflow.keras.layers import Conv2D, MaxPooling2D, BatchNormalization\n",
    "from tensorflow.keras.layers import Dropout, Flatten, Input, Dense\n",
    "\n",
    "def create_model():\n",
    "    \n",
    "    def add_conv_block(model, num_filters):\n",
    "        \n",
    "        model.add(Conv2D(num_filters, 3, activation='relu', padding='same'))\n",
    "        model.add(BatchNormalization())\n",
    "        model.add(Conv2D(num_filters, 3, activation='relu', padding='valid'))\n",
    "        model.add(MaxPooling2D(pool_size=2))\n",
    "        model.add(Dropout(0.2))\n",
    "\n",
    "        return model\n",
    "    \n",
    "    model = tf.keras.models.Sequential()\n",
    "    model.add(Input(shape=(32, 32, 3)))\n",
    "    \n",
    "    model = add_conv_block(model, 32)\n",
    "    model = add_conv_block(model, 64)\n",
    "    model = add_conv_block(model, 128)\n",
    "\n",
    "    model.add(Flatten())\n",
    "    model.add(Dense(3, activation='softmax'))\n",
    "\n",
    "    model.compile(loss='categorical_crossentropy', optimizer='adam', metrics=['accuracy'])\n",
    "    return model\n",
    "\n",
    "model = create_model()\n",
    "model.summary()"
   ]
  },
  {
   "cell_type": "markdown",
   "metadata": {},
   "source": [
    "# Step 5: Train the Model\n",
    "- Fit the model on the subset.\n",
    "- Setting the EarlyStopping callback.\n",
    "- Setting the ModelCheckpoint callback."
   ]
  },
  {
   "cell_type": "code",
   "execution_count": null,
   "metadata": {},
   "outputs": [],
   "source": [
    "%%time\n",
    "\n",
    "h = model.fit(\n",
    "    x_train/255., y_train,\n",
    "    validation_data=(x_test/255., y_test),\n",
    "    epochs=20, batch_size=256,\n",
    "    callbacks=[\n",
    "        tf.keras.callbacks.EarlyStopping(monitor='val_accuracy', patience=2),\n",
    "        tf.keras.callbacks.ModelCheckpoint('models/model_{val_accuracy:.3f}.h5', save_best_only=True,\n",
    "                                          save_weights_only=False, monitor='val_accuracy')\n",
    "    ]\n",
    ")"
   ]
  },
  {
   "cell_type": "markdown",
   "metadata": {},
   "source": [
    "# Step 6: Final Predictions\n",
    "- Plotting the training and validation accuracy from the training.\n",
    "- Loading the best model.\n",
    "- Getting predictions on the test set and displaying the results."
   ]
  },
  {
   "cell_type": "code",
   "execution_count": null,
   "metadata": {},
   "outputs": [],
   "source": [
    "losses = h.history['loss']\n",
    "accs = h.history['accuracy']\n",
    "val_losses = h.history['val_loss']\n",
    "val_accs = h.history['val_accuracy']\n",
    "epochs = len(losses)\n",
    "\n",
    "plt.figure(figsize=(12, 4))\n",
    "for i, metrics in enumerate(zip([losses, accs], [val_losses, val_accs], ['Loss', 'Accuracy'])):\n",
    "    plt.subplot(1, 2, i + 1)\n",
    "    plt.plot(range(epochs), metrics[0], label='Training {}'.format(metrics[2]))\n",
    "    plt.plot(range(epochs), metrics[1], label='Validation {}'.format(metrics[2]))\n",
    "    plt.legend()\n",
    "plt.show()"
   ]
  },
  {
   "cell_type": "code",
   "execution_count": null,
   "metadata": {},
   "outputs": [],
   "source": [
    "model = tf.keras.models.load_model('models/model_0.913.h5')\n",
    "preds = model.predict(x_test/255.)"
   ]
  },
  {
   "cell_type": "code",
   "execution_count": null,
   "metadata": {},
   "outputs": [],
   "source": [
    "show_random_examples(x_test, y_test, preds)"
   ]
  },
  {
   "cell_type": "code",
   "execution_count": null,
   "metadata": {},
   "outputs": [],
   "source": []
  }
 ],
 "metadata": {
  "kernelspec": {
   "display_name": "Python 3",
   "language": "python",
   "name": "python3"
  },
  "language_info": {
   "codemirror_mode": {
    "name": "ipython",
    "version": 3
   },
   "file_extension": ".py",
   "mimetype": "text/x-python",
   "name": "python",
   "nbconvert_exporter": "python",
   "pygments_lexer": "ipython3",
   "version": "3.7.6"
  }
 },
 "nbformat": 4,
 "nbformat_minor": 2
}
